{
 "cells": [
  {
   "cell_type": "code",
   "execution_count": 1,
   "metadata": {},
   "outputs": [
    {
     "name": "stdout",
     "output_type": "stream",
     "text": [
      "['X_minimum', 'X_maximum', 'Y_minimum', 'Y_maximum', 'Pixels_areas', 'X_perimeter', 'Y_perimeter', 'Sum_of_luminosity', 'Minimum_luminosity', 'Maximum_luminosity', 'Length_conveyer', 'TypeSteel_A300', 'TypeSteel_A400', 'SteelPlate_thickness', 'Edges_index', 'Empty_index', 'Square_index', 'OutsideX_index', 'EdgesX_index', 'EdgesY_index', 'OutsideGlobal_index', 'LogOfAreas', 'LogX_index', 'LogY_index', 'Orientation_index', 'Luminosity_index', 'SigmoidOfAreas'] \n",
      " ['Pastry', 'Z_scratch', 'K_scratch', 'Stains', 'Dirtiness', 'Bumps', 'Other_faults']\n"
     ]
    }
   ],
   "source": [
    "import pyspark\n",
    "from pyspark.sql.types import *\n",
    "from pyspark.sql import SparkSession\n",
    "spark = SparkSession.builder \\\n",
    "    .appName(\"testca\") \\\n",
    "    .getOrCreate()\n",
    "\n",
    "#og df schema\n",
    "steeltrain_schema = StructType([StructField(\"id\", IntegerType(), True),\n",
    "                           StructField(\"X_minimum\", IntegerType(), True),\n",
    "                           StructField(\"X_maximum\", IntegerType(), True),\n",
    "                           StructField(\"Y_minimum\", IntegerType(), True),\n",
    "                           StructField(\"Y_maximum\", IntegerType(), True),\n",
    "                           StructField(\"Pixels_areas\", IntegerType(), True),\n",
    "                           StructField(\"X_perimeter\", IntegerType(), True),\n",
    "                           StructField(\"Y_perimeter\", IntegerType(), True),\n",
    "                           StructField(\"Sum_of_luminosity\", IntegerType(), True),\n",
    "                           StructField(\"Minimum_luminosity\", IntegerType(), True),\n",
    "                           StructField(\"Maximum_luminosity\", IntegerType(), True),\n",
    "                           StructField(\"Length_conveyer\", IntegerType(), True),\n",
    "                           StructField(\"TypeSteel_A300\", IntegerType(), True),\n",
    "                           StructField(\"TypeSteel_A400\", IntegerType(), True),\n",
    "                           StructField(\"SteelPlate_thickness\", IntegerType(), True),\n",
    "                           StructField(\"Edges_index\", FloatType(), True),\n",
    "                           StructField(\"Empty_index\", FloatType(), True),\n",
    "                           StructField(\"Square_index\", FloatType(), True),\n",
    "                           StructField(\"OutsideX_index\", FloatType(), True),\n",
    "                           StructField(\"EdgesX_index\", FloatType(), True),\n",
    "                           StructField(\"EdgesY_index\", FloatType(), True),\n",
    "                           StructField(\"OutsideGlobal_index\", FloatType(), True),\n",
    "                           StructField(\"LogOfAreas\", FloatType(), True),\n",
    "                           StructField(\"LogX_index\", FloatType(), True),\n",
    "                           StructField(\"LogY_index\", FloatType(), True),\n",
    "                           StructField(\"Orientation_index\", FloatType(), True),\n",
    "                           StructField(\"Luminosity_index\", FloatType(), True),\n",
    "                           StructField(\"SigmoidOfAreas\", FloatType(), True),\n",
    "                           StructField(\"Pastry\", IntegerType(), True),\n",
    "                           StructField(\"Z_scratch\", IntegerType(), True),\n",
    "                           StructField(\"K_scratch\", IntegerType(), True),\n",
    "                           StructField(\"Stains\", IntegerType(), True),\n",
    "                           StructField(\"Dirtiness\", IntegerType(), True),\n",
    "                           StructField(\"Bumps\", IntegerType(), True),\n",
    "                           StructField(\"Other_faults\", IntegerType(), True),\n",
    "                           ])\n",
    "steeltest_schema = StructType([StructField(\"id\", IntegerType(), True),\n",
    "                           StructField(\"X_minimum\", IntegerType(), True),\n",
    "                           StructField(\"X_maximum\", IntegerType(), True),\n",
    "                           StructField(\"Y_minimum\", IntegerType(), True),\n",
    "                           StructField(\"Y_maximum\", IntegerType(), True),\n",
    "                           StructField(\"Pixels_areas\", IntegerType(), True),\n",
    "                           StructField(\"X_perimeter\", IntegerType(), True),\n",
    "                           StructField(\"Y_perimeter\", IntegerType(), True),\n",
    "                           StructField(\"Sum_of_luminosity\", IntegerType(), True),\n",
    "                           StructField(\"Minimum_luminosity\", IntegerType(), True),\n",
    "                           StructField(\"Maximum_luminosity\", IntegerType(), True),\n",
    "                           StructField(\"Length_conveyer\", IntegerType(), True),\n",
    "                           StructField(\"TypeSteel_A300\", IntegerType(), True),\n",
    "                           StructField(\"TypeSteel_A400\", IntegerType(), True),\n",
    "                           StructField(\"SteelPlate_thickness\", IntegerType(), True),\n",
    "                           StructField(\"Edges_index\", FloatType(), True),\n",
    "                           StructField(\"Empty_index\", FloatType(), True),\n",
    "                           StructField(\"Square_index\", FloatType(), True),\n",
    "                           StructField(\"OutsideX_index\", FloatType(), True),\n",
    "                           StructField(\"EdgesX_index\", FloatType(), True),\n",
    "                           StructField(\"EdgesY_index\", FloatType(), True),\n",
    "                           StructField(\"OutsideGlobal_index\", FloatType(), True),\n",
    "                           StructField(\"LogOfAreas\", FloatType(), True),\n",
    "                           StructField(\"LogX_index\", FloatType(), True),\n",
    "                           StructField(\"LogY_index\", FloatType(), True),\n",
    "                           StructField(\"Orientation_index\", FloatType(), True),\n",
    "                           StructField(\"Luminosity_index\", FloatType(), True),\n",
    "                           StructField(\"SigmoidOfAreas\", FloatType(), True),])\n",
    "\n",
    "#import dataset\n",
    "steeltrain_path = \"dataset/train.csv\"\n",
    "steeltest_path = \"dataset/test.csv\"\n",
    "steel_train = spark.read.csv(steeltrain_path, header=True, schema=steeltrain_schema)\n",
    "steel_test = spark.read.csv(steeltest_path, header=True, schema=steeltest_schema)\n",
    "\n",
    "#extract col names\n",
    "target_cols = steel_train.columns[-7:]\n",
    "feature_cols = steel_train.columns[1:-7]\n",
    "print(feature_cols,\"\\n\", target_cols)"
   ]
  },
  {
   "cell_type": "code",
   "execution_count": 2,
   "metadata": {},
   "outputs": [
    {
     "name": "stdout",
     "output_type": "stream",
     "text": [
      "[634, 752, 3572, 4416, 4530, 4664, 6448, 7589, 8075, 8538, 9103, 9388, 10225, 10315, 13318, 13990, 15992, 16307, 17503, 17815, 17870]\n"
     ]
    }
   ],
   "source": [
    "##DROP ROWS WITH MULTIPLE TRUE LABELS\n",
    "\n",
    "#find corresponding id\n",
    "id_values = []\n",
    "for row in steel_train.rdd.collect(): #count 1s in the row\n",
    "    count_ones = 0\n",
    "    for column in target_cols:  #iterate over each col in target_cols, check 1 value\n",
    "        if row[column] == 1:\n",
    "            count_ones += 1 #increment\n",
    "            if count_ones > 1:  #append to id_values if count > 1\n",
    "                id_values.append(row[\"id\"])\n",
    "                break\n",
    "\n",
    "#check correct\n",
    "print(len(id_values))"
   ]
  },
  {
   "cell_type": "code",
   "execution_count": 4,
   "metadata": {},
   "outputs": [
    {
     "data": {
      "text/plain": [
       "19198"
      ]
     },
     "execution_count": 4,
     "metadata": {},
     "output_type": "execute_result"
    }
   ],
   "source": [
    "#remove rows\n",
    "steel_train1 = steel_train.filter(~steel_train.id.isin(id_values))\n",
    "steel_train1.count()"
   ]
  },
  {
   "cell_type": "code",
   "execution_count": 5,
   "metadata": {},
   "outputs": [],
   "source": [
    "from pyspark.sql.functions import col\n",
    "\n",
    "##DROP ROWS WITH NO FAULT LABEL\n",
    "\n",
    "#function to find target column based on value\n",
    "def find_target_column(row):\n",
    "    columns_with_ones = []  #store columns with \"1\" values in current row\n",
    "    for column in target_cols:\n",
    "        if row[column] == 1:\n",
    "            columns_with_ones.append(column)\n",
    "    if columns_with_ones:   #for cols with \"1\" on same row\n",
    "        return ', '.join(columns_with_ones)\n",
    "    else:\n",
    "        return 'No_fault'\n",
    "\n",
    "#convert df to RDD of rows & apply function to each row, add result as new col\n",
    "rdd = steel_train1.rdd.map(lambda row: Row(**row.asDict()))\n",
    "rdd = rdd.map(lambda row: row + (find_target_column(row),))\n",
    "\n",
    "#convert RDD back to df\n",
    "steel_train2 = spark.createDataFrame(rdd, steel_train1.schema.add(\"target_col\", \"string\"))\n",
    "\n",
    "#check no_fault exists in new df\n",
    "steel_train2.filter(col(\"target_col\") == \"No_fault\").show(5)"
   ]
  },
  {
   "cell_type": "code",
   "execution_count": 8,
   "metadata": {},
   "outputs": [],
   "source": [
    "#remove rows & check\n",
    "steel_train3 = steel_train2.filter(~steel_train2.target_col.isin(\"No_fault\"))\n",
    "steel_train3.filter(col(\"target_col\") == \"No_fault\").show(5)"
   ]
  },
  {
   "cell_type": "code",
   "execution_count": 11,
   "metadata": {},
   "outputs": [],
   "source": [
    "##SPLIT CLEAN DATA & WRITE TO FILE\n",
    "\n",
    "train_ratio = 0.8\n",
    "test_ratio = 1 - train_ratio\n",
    "seed = 42 \n",
    "st_train, st_test = steel_train3.randomSplit([train_ratio, test_ratio], seed=seed)\n",
    "\n",
    "#write to csv file new train & test data\n",
    "st_train.write.option(\"header\",True).csv(\"dataset/train_clean.csv\")\n",
    "st_test.write.option(\"header\",True).csv(\"dataset/test_clean.csv\")"
   ]
  },
  {
   "cell_type": "code",
   "execution_count": 13,
   "metadata": {},
   "outputs": [],
   "source": [
    "spark.stop()"
   ]
  }
 ],
 "metadata": {
  "kernelspec": {
   "display_name": "Python 3",
   "language": "python",
   "name": "python3"
  },
  "language_info": {
   "codemirror_mode": {
    "name": "ipython",
    "version": 3
   },
   "file_extension": ".py",
   "mimetype": "text/x-python",
   "name": "python",
   "nbconvert_exporter": "python",
   "pygments_lexer": "ipython3",
   "version": "3.9.0"
  }
 },
 "nbformat": 4,
 "nbformat_minor": 2
}
